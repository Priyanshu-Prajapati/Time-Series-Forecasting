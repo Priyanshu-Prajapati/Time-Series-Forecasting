# Step 1: Import Libraries
import numpy as np
import pandas as pd
import matplotlib.pyplot as plt
from sklearn.preprocessing import MinMaxScaler
from tensorflow.keras.models import Sequential
from tensorflow.keras.layers import LSTM, Dense


# Step 2: Load Data
url = 'https://raw.githubusercontent.com/jbrownlee/Datasets/master/daily-min-temperatures.csv'
df = pd.read_csv(url, parse_dates=['Date'], index_col='Date')
df = df[['Temp']]
df.plot(figsize=(12, 6), title='Daily Min Temperatures')
plt.show()


# Step 3: Normalize
scaler = MinMaxScaler()
scaled = scaler.fit_transform(df)


# Step 4: Create Sequences
def create_sequences(data, window_size):
    X, y = [], []
    for i in range(len(data) - window_size):
        X.append(data[i:i+window_size])
        y.append(data[i+window_size])
    return np.array(X), np.array(y)

window_size = 30
X, y = create_sequences(scaled, window_size)


# Step 5: Train/Test Split
split = int(0.8 * len(X))
X_train, X_test = X[:split], X[split:]
y_train, y_test = y[:split], y[split:]


# Step 6: Build LSTM Model
model = Sequential([
    LSTM(64, activation='relu', input_shape=(window_size, 1)),
    Dense(1)
])
model.compile(optimizer='adam', loss='mse')
model.summary()


# Step 7: Train Model
history = model.fit(X_train, y_train, epochs=20, batch_size=16, validation_split=0.1)


# Step 8: Evaluate
loss = model.evaluate(X_test, y_test)
print(f"Test MSE: {loss}")


# Step 9: Predict and Plot
y_pred = model.predict(X_test)
y_pred_inv = scaler.inverse_transform(y_pred)
y_test_inv = scaler.inverse_transform(y_test)

plt.figure(figsize=(12, 6))
plt.plot(y_test_inv, label='Actual')
plt.plot(y_pred_inv, label='Predicted')
plt.title('Temperature Forecasting')
plt.legend()
plt.show()
